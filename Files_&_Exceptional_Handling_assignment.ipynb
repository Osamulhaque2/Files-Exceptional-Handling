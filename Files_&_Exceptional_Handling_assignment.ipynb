{
  "nbformat": 4,
  "nbformat_minor": 0,
  "metadata": {
    "colab": {
      "provenance": []
    },
    "kernelspec": {
      "name": "python3",
      "display_name": "Python 3"
    },
    "language_info": {
      "name": "python"
    }
  },
  "cells": [
    {
      "cell_type": "markdown",
      "source": [
        "**Theoretical Question**\n",
        "\n",
        "1.What is the difference between interpreted and compiled languages?\n",
        " - Interpreted languages (like Python) execute code line-by-line using an interpreter. This allows for easier debugging and platform independence but can be slower. Compiled languages (like C or C++) are translated into machine code before execution. This makes them faster and more efficient but less flexible during development.\n",
        "\n",
        "2.What is exception handling in Python?\n",
        "\n",
        "- Exception handling is a mechanism that allows a program to deal with unexpected errors during execution. Instead of crashing, Python lets you catch and handle these errors using try, except, else, and finally blocks, ensuring the program continues running smoothly.\n",
        "\n",
        "3.What is the purpose of the finally block in exception handling?\n",
        "- The finally block is used to define cleanup actions that must be executed under all circumstances—whether an exception was raised or not. It's commonly used to close files, release resources, or reset states.\n",
        "4.What is logging in Python?\n",
        "- Logging is a way to track events that happen when software runs. Python’s logging module allows developers to record messages at different severity levels (like debug, info, warning, error, and critical), which helps in diagnosing problems and understanding program flow.\n",
        "5.What is the significance of the del method in Python?\n",
        "- The del method is a special method called a destructor. It is automatically invoked when an object is about to be destroyed, allowing you to perform cleanup tasks. However, relying on it is discouraged because the timing of its execution is not guaranteed.\n",
        "6.What is the difference between import and from ... import in Python?\n",
        "- import module: Imports the entire module. We access functions with module.function(). from module import function: Imports specific functions or classes, allowing direct use without the module prefix.\n",
        "7. How can you handle multiple exceptions in Python?\n",
        "- You can catch multiple exceptions using multiple except blocks or by grouping them in a tuple:\n",
        "try:\n",
        "except (TypeError, ValueError) as e: print(\"Caught an exception:\", e)\n",
        "\n",
        "8.What is the purpose of the with statement when handling files in Python?\n",
        "- The with statement simplifies file handling by automatically managing file opening and closing. It ensures that the file is properly closed even if an error occurs during processing:\n",
        "with open('file.txt', 'r') as f: data = f.read()\n",
        "\n",
        "9.What is the difference between multithreading and multiprocessing?\n",
        "- Multithreading: Multiple threads run in the same process and share memory. Best for I/O-bound tasks. Multiprocessing: Multiple processes run independently with separate memory. Ideal for CPU-bound tasks.\n",
        "10.What are the advantages of using logging in a program?\n",
        "- Helps in debugging and monitoring\n",
        "Records runtime events\n",
        "Supports different severity levels\n",
        "Can log to files, consoles, or remote servers\n",
        "More flexible and powerful than print()\n",
        "11.What is memory management in Python?\n",
        "- Python handles memory automatically using reference counting and a garbage collector. It allocates memory for new objects and reclaims it when objects are no longer in use, helping prevent memory leaks.\n",
        "12.What are the basic steps involved in exception handling in Python?\n",
        "- Following are the basic steps involved in exception handeling: try: Wrap code that might raise an error except: Handle specific exceptions else: Run code if no exception occurs finally: Always run cleanup code\n",
        "13.Why is memory management important in Python?\n",
        "- Efficient memory management ensures that your program uses system resources wisely, avoids memory leaks, and maintains performance, especially in long-running or data-intensive applications.\n",
        "14.What is the role of try and except in exception handling?\n",
        "- Beow are the role of try and except in exception handling: try: Contains code that might raise an exception except: Catches and handles the exception, preventing the program from crashing\n",
        "15.How does Python's garbage collection system work?\n",
        "- Python uses reference counting to track object usage. When an object’s reference count drops to zero, it’s deleted. It also uses a cyclic garbage collector to detect and clean up reference cycles.\n",
        "16.What is the purpose of the else block in exception handling?\n",
        "- The else block runs only if the try block doesn’t raise an exception. It’s useful for code that should only execute when no errors occur.\n",
        "17.What are the common logging levels in Python?\n",
        "- DEBUG: Detailed information for diagnosing problems\n",
        "- INFO: General events confirming things are working\n",
        "- WARNING: Something unexpected, but the program still works\n",
        "- ERROR: A serious problem that prevents part of the program from working\n",
        "- CRITICAL: A severe error causing the program to stop\n",
        "18.What is the difference between os.fork() and multiprocessing in Python?\n",
        "- os.fork(): Low-level, Unix-only method to create a child process. multiprocessing: High-level, cross-platform module that simplifies process creation and communication.\n",
        "19.What is the importance of closing a file in Python?\n",
        "- Closing a file ensures that all data is written to disk and system resources are released. Failing to close files can lead to data corruption or memory leaks.\n",
        "20.What is the difference between file.read() and file.readline() in Python?\n",
        "- read(): Reads the entire file content as a single string readline(): Reads one line at a time, useful for large files\n",
        "21.What is the logging module in Python used for?\n",
        "- The logging module provides a flexible framework for emitting log messages from Python programs. It helps track events, errors, and system behavior during execution.\n",
        "22.What is the os module in Python used for in file handling?\n",
        "- The os module allows interaction with the operating system. In file handling, it helps with tasks like checking file existence, creating directories, renaming, and deleting files.\n",
        "23.What are the challenges associated with memory management in Python?\n",
        "- Detecting and cleaning circular references. Managing memory in large-scale applications. Avoiding memory leaks due to lingering references. Balancing performance with memory usage.\n",
        "24.How do you raise an exception manually in Python?\n",
        "- We can raise exceptions using the raise keyword to signal an error intentionally: raise ValueError(\"Invalid input provided\")\n",
        "25.Why is it important to use multithreading in certain applications?\n",
        "- Multithreading is useful in I/O-bound applications like web servers or file operations. It allows multiple tasks to run concurrently, improving responsiveness and performance."
      ],
      "metadata": {
        "id": "_5vvb0YA6Mdl"
      }
    },
    {
      "cell_type": "markdown",
      "source": [
        "**Practical Questions**\n"
      ],
      "metadata": {
        "id": "t_2M6qjXAREE"
      }
    },
    {
      "cell_type": "code",
      "source": [
        "1. #How can you open a file for writing in Python and write a string to it?\n",
        "with open(\"example.txt\", \"w\") as file:\n",
        "    file.write(\"Hello, world!\")"
      ],
      "metadata": {
        "id": "M4l4AroCAYg6"
      },
      "execution_count": null,
      "outputs": []
    },
    {
      "cell_type": "code",
      "source": [
        "2. #Write a Python program to read the contents of a file and print each line.\n",
        "with open(\"practfile.txt\", \"r\") as file:\n",
        "    for line in file:\n",
        "        print(line.strip())"
      ],
      "metadata": {
        "colab": {
          "base_uri": "https://localhost:8080/"
        },
        "id": "84T8sQ7oIVV9",
        "outputId": "ce56b61d-d7d8-4200-b85d-35e509dbf8ef"
      },
      "execution_count": null,
      "outputs": [
        {
          "output_type": "stream",
          "name": "stdout",
          "text": [
            "Hello, world\n",
            "My name is Osamul\n"
          ]
        }
      ]
    },
    {
      "cell_type": "code",
      "source": [
        "3. #How would you handle a case where the file doesn't exist while trying to open it for reading.\n",
        "filename = \"nonexistent_file.txt\"\n",
        "\n",
        "try:\n",
        "    with open(filename, \"r\") as file:\n",
        "        content = file.read()\n",
        "        print(content)\n",
        "except FileNotFoundError:\n",
        "    print(f\"Error: The file '{filename}' does not exist.\")"
      ],
      "metadata": {
        "colab": {
          "base_uri": "https://localhost:8080/"
        },
        "id": "698BGG7ABBRf",
        "outputId": "51b19e4f-3c8f-4e24-a9af-9e88e21a4da9"
      },
      "execution_count": null,
      "outputs": [
        {
          "output_type": "stream",
          "name": "stdout",
          "text": [
            "Error: The file 'nonexistent_file.txt' does not exist.\n"
          ]
        }
      ]
    },
    {
      "cell_type": "code",
      "source": [
        "4. #Write a Python script that reads from one file and writes its content to another file\n",
        "# Define source and destination file paths\n",
        "source_file = \"practfile.txt\"\n",
        "destination_file = \"example.txt\"\n",
        "\n",
        "try:\n",
        "    # Open the source file for reading\n",
        "    with open(source_file, \"r\") as src:\n",
        "        content = src.read()\n",
        "\n",
        "    # Open the destination file for writing\n",
        "    with open(destination_file, \"w\") as dest:\n",
        "        dest.write(content)\n",
        "\n",
        "    print(f\"Content successfully copied from '{source_file}' to '{destination_file}'.\")\n",
        "\n",
        "except FileNotFoundError:\n",
        "    print(f\"Error: The file '{source_file}' does not exist.\")\n",
        "except IOError as e:\n",
        "    print(f\"An I/O error occurred: {e}\")"
      ],
      "metadata": {
        "colab": {
          "base_uri": "https://localhost:8080/"
        },
        "id": "-1nYFH1lBam7",
        "outputId": "893d78e9-ad09-4778-ddbd-8772ee3e5aa6"
      },
      "execution_count": null,
      "outputs": [
        {
          "output_type": "stream",
          "name": "stdout",
          "text": [
            "Content successfully copied from 'practfile.txt' to 'example.txt'.\n"
          ]
        }
      ]
    },
    {
      "cell_type": "code",
      "source": [
        "5. #How would you catch and handle division by zero error in Python?\n",
        "try:\n",
        "    numerator = 10\n",
        "    denominator = 0\n",
        "    result = numerator / denominator\n",
        "    print(f\"Result: {result}\")\n",
        "except ZeroDivisionError:\n",
        "    print(\"Error: Hey, we cannot divide by zero.\")"
      ],
      "metadata": {
        "colab": {
          "base_uri": "https://localhost:8080/"
        },
        "id": "mlEddVAeLXmB",
        "outputId": "7ee3a5da-013d-42ea-c229-9c9803612d46"
      },
      "execution_count": null,
      "outputs": [
        {
          "output_type": "stream",
          "name": "stdout",
          "text": [
            "Error: Hey, we cannot divide by zero.\n"
          ]
        }
      ]
    },
    {
      "cell_type": "code",
      "source": [
        "6. #Write a Python program that logs an error message to a log file when a division by zero exception occurs.\n",
        "import logging\n",
        "\n",
        "# Configure logging to write to a file\n",
        "logging.basicConfig(\n",
        "    filename=\"error_log.txt\",\n",
        "    level=logging.ERROR,\n",
        "    format=\"%(asctime)s - %(levelname)s - %(message)s\"\n",
        ")\n",
        "\n",
        "def divide(a, b):\n",
        "    try:\n",
        "        result = a / b\n",
        "        print(f\"Result: {result}\")\n",
        "    except ZeroDivisionError as e:\n",
        "        logging.error(\"Attempted to divide by zero: %s\", e)\n",
        "        print(\"Error: Cannot divide by zero.\")\n",
        "\n",
        "# Example usage\n",
        "divide(10, 0)"
      ],
      "metadata": {
        "colab": {
          "base_uri": "https://localhost:8080/"
        },
        "id": "jm2kZiGaLx2O",
        "outputId": "0f5b5fe3-982c-4c48-8e97-c594b40812c1"
      },
      "execution_count": null,
      "outputs": [
        {
          "output_type": "stream",
          "name": "stderr",
          "text": [
            "ERROR:root:Attempted to divide by zero: division by zero\n"
          ]
        },
        {
          "output_type": "stream",
          "name": "stdout",
          "text": [
            "Error: Cannot divide by zero.\n"
          ]
        }
      ]
    },
    {
      "cell_type": "code",
      "source": [
        "7. #How do you log information at different levels (INFO, ERROR, WARNING) in Python using the logging module?\n",
        "import logging\n",
        "\n",
        "# Configure logging\n",
        "logging.basicConfig(\n",
        "    filename=\"app.log\",\n",
        "    level=logging.DEBUG,  # Capture all levels from DEBUG and above\n",
        "    format=\"%(asctime)s - %(levelname)s - %(message)s\"\n",
        ")\n",
        "\n",
        "# Log messages at different levels\n",
        "logging.debug(\"This is a debug message.\")\n",
        "logging.info(\"This is an info message.\")\n",
        "logging.warning(\"This is a warning message.\")\n",
        "logging.error(\"This is an error message.\")\n",
        "logging.critical(\"This is a critical message.\")"
      ],
      "metadata": {
        "colab": {
          "base_uri": "https://localhost:8080/"
        },
        "id": "m8Q3WGC4L_Sw",
        "outputId": "e6009c5f-5173-433b-89b7-e4a3e11f56ed"
      },
      "execution_count": null,
      "outputs": [
        {
          "output_type": "stream",
          "name": "stderr",
          "text": [
            "WARNING:root:This is a warning message.\n",
            "ERROR:root:This is an error message.\n",
            "CRITICAL:root:This is a critical message.\n"
          ]
        }
      ]
    },
    {
      "cell_type": "code",
      "source": [
        "8. #Write a program to handle a file opening error using exception handling.\n",
        "filename = \"nonexistent_file.txt\"\n",
        "\n",
        "try:\n",
        "    with open(filename, \"r\") as file: #It'll read the file\n",
        "        content = file.read()\n",
        "        print(content)\n",
        "except FileNotFoundError:\n",
        "    print(f\"Error: The file '{filename}' was not found.\")\n",
        "except PermissionError:\n",
        "    print(f\"Error: Permission denied to open the file '{filename}'.\")\n",
        "except Exception as e:\n",
        "    print(f\"An unexpected error occurred: {e}\")"
      ],
      "metadata": {
        "colab": {
          "base_uri": "https://localhost:8080/"
        },
        "id": "6oEufIvGMai8",
        "outputId": "1caf44d8-efbd-4962-beb1-7ed084a81465"
      },
      "execution_count": null,
      "outputs": [
        {
          "output_type": "stream",
          "name": "stdout",
          "text": [
            "Error: The file 'nonexistent_file.txt' was not found.\n"
          ]
        }
      ]
    },
    {
      "cell_type": "code",
      "source": [
        "9 #How can you read a file line by line and store its content in a list in Python?\n",
        "filename = \"practfile.txt\"\n",
        "\n",
        "try:\n",
        "    with open(filename, \"r\") as file:\n",
        "        lines = [line.strip() for line in file]\n",
        "    print(lines)\n",
        "except FileNotFoundError:\n",
        "    print(f\"Error: The file '{filename}' was not found.\")"
      ],
      "metadata": {
        "colab": {
          "base_uri": "https://localhost:8080/"
        },
        "id": "4aSiMyGYMm9N",
        "outputId": "137d47b5-f22e-4958-c13c-fece96aed89b"
      },
      "execution_count": null,
      "outputs": [
        {
          "output_type": "stream",
          "name": "stdout",
          "text": [
            "['Hello, world', 'My name is Osamul']\n"
          ]
        }
      ]
    },
    {
      "cell_type": "code",
      "source": [
        "10 #How can you append data to an existing file in Python?\n",
        "filename = \"example.txt\"\n",
        "data_to_append = \"\\nThis is a new line of text.\"\n",
        "\n",
        "try:\n",
        "    with open(filename, \"a\") as file:\n",
        "        file.write(data_to_append + \"\\n\")\n",
        "    print(\"Data appended successfully.\")\n",
        "except Exception as e:\n",
        "    print(f\"An error occurred: {e}\")"
      ],
      "metadata": {
        "colab": {
          "base_uri": "https://localhost:8080/"
        },
        "id": "UaTOmAIlOSfw",
        "outputId": "a6bfc862-6110-481c-be56-af8f768f4dfe"
      },
      "execution_count": null,
      "outputs": [
        {
          "output_type": "stream",
          "name": "stdout",
          "text": [
            "Data appended successfully.\n"
          ]
        }
      ]
    },
    {
      "cell_type": "code",
      "source": [
        "11 #Write a Python program that uses a try-except block to handle an error when attempting to access a dictionary key that doesn't exist.\n",
        "# Define a sample dictionary\n",
        "person = {\n",
        "    \"name\": \"Osamul Haque\",\n",
        "    \"age\": 25\n",
        "}\n",
        "\n",
        "# Attempt to access a non-existent key\n",
        "try:\n",
        "    print(\"Name:\", person[\"name\"])\n",
        "    print(\"Occupation:\", person[\"occupation\"])  # This key doesn't exist\n",
        "except KeyError as e:\n",
        "    print(f\"Error: The key '{e}' does not exist in the dictionary.\")"
      ],
      "metadata": {
        "colab": {
          "base_uri": "https://localhost:8080/"
        },
        "id": "q4yeGL9zOfyQ",
        "outputId": "39d67528-e2d5-4fac-a528-d0b92049079f"
      },
      "execution_count": null,
      "outputs": [
        {
          "output_type": "stream",
          "name": "stdout",
          "text": [
            "Name: Osamul Haque\n",
            "Error: The key ''occupation'' does not exist in the dictionary.\n"
          ]
        }
      ]
    },
    {
      "cell_type": "code",
      "source": [
        " 12 #Write a program that demonstrates using multiple except blocks to handle different types of exceptions.\n",
        "def exception_demo():\n",
        "    try:\n",
        "        # Trigger a ValueError\n",
        "        number = int(input(\"Enter a number: \"))\n",
        "\n",
        "        # Trigger a ZeroDivisionError\n",
        "        result = 10 / number\n",
        "\n",
        "        # Trigger a KeyError\n",
        "        sample_dict = {\"a\": 1, \"b\": 2}\n",
        "        print(sample_dict[\"c\"])\n",
        "\n",
        "    except ValueError:\n",
        "        print(\"You did not enter a valid integer.\")\n",
        "\n",
        "    except ZeroDivisionError:\n",
        "        print(\"Division by zero is not allowed.\")\n",
        "\n",
        "    except KeyError as e:\n",
        "        print(f\"KeyError: The key '{e}' does not exist in the dictionary.\")\n",
        "\n",
        "    except Exception as e:\n",
        "        print(f\"An unexpected error occurred: {e}\")\n",
        "\n",
        "# Run the function\n",
        "exception_demo()"
      ],
      "metadata": {
        "colab": {
          "base_uri": "https://localhost:8080/"
        },
        "id": "GAFM8bkWQRCZ",
        "outputId": "62a907ef-6517-4b00-8c37-d42a5a818e31"
      },
      "execution_count": null,
      "outputs": [
        {
          "output_type": "stream",
          "name": "stdout",
          "text": [
            "Enter a number: 0\n",
            "Division by zero is not allowed.\n"
          ]
        }
      ]
    },
    {
      "cell_type": "code",
      "source": [
        "13 #How would you check if a file exists before attempting to read it in Python?\n",
        "import os\n",
        "\n",
        "file_path = \"practfile.txt\"\n",
        "\n",
        "if os.path.exists(file_path):\n",
        "    with open(file_path, 'r') as file:\n",
        "        content = file.read()\n",
        "        print(content)\n",
        "else:\n",
        "    print(f\"File does not exist.\")"
      ],
      "metadata": {
        "colab": {
          "base_uri": "https://localhost:8080/"
        },
        "id": "Z3dJK-lsQXHL",
        "outputId": "817c8eaa-040d-4ed2-e092-303ffa1754b3"
      },
      "execution_count": null,
      "outputs": [
        {
          "output_type": "stream",
          "name": "stdout",
          "text": [
            "Hello, world\n",
            "My name is Osamul\n"
          ]
        }
      ]
    },
    {
      "cell_type": "code",
      "source": [
        "14 #Write a program that uses the logging module to log both informational and error messages.\n",
        "import logging\n",
        "\n",
        "# Basic logging setup\n",
        "logging.basicConfig(level=logging.INFO)\n",
        "\n",
        "def divide(a, b):\n",
        "    try:\n",
        "        result = a / b\n",
        "        logging.info(f\"Result: {result}\")\n",
        "    except ZeroDivisionError:\n",
        "        logging.error(\"Cannot divide by zero.\")\n",
        "    except Exception as e:\n",
        "        logging.error(f\"Error: {e}\")\n",
        "\n",
        "# Test the function\n",
        "divide(10, 2)\n",
        "#divide(10, 0)\n",
        "#divide(\"10\", 2)"
      ],
      "metadata": {
        "id": "QLrmpi1UQzBG"
      },
      "execution_count": null,
      "outputs": []
    },
    {
      "cell_type": "code",
      "source": [
        "15 #Write a Python program that prints the content of a file and handles the case when the file is empty.\n",
        "def read_file(filename):\n",
        "    try:\n",
        "        with open(filename, 'r') as file:\n",
        "            content = file.read()\n",
        "            if content.strip() == \"\":\n",
        "                print(\"The file is empty.\")\n",
        "            else:\n",
        "                print(\"File content:\")\n",
        "                print(content)\n",
        "    except FileNotFoundError:\n",
        "        print(\"The file does not exist.\")\n",
        "    except Exception as e:\n",
        "        print(f\"An error occurred: {e}\")\n",
        "\n",
        "# Example usage\n",
        "read_file(\"practfile.txt\")"
      ],
      "metadata": {
        "colab": {
          "base_uri": "https://localhost:8080/"
        },
        "id": "few5P8FmQ7bC",
        "outputId": "14392fbb-1774-48c7-c3a8-f8eb8f450e95"
      },
      "execution_count": null,
      "outputs": [
        {
          "output_type": "stream",
          "name": "stdout",
          "text": [
            "File content:\n",
            "Hello, world\n",
            "My name is Osamul\n"
          ]
        }
      ]
    },
    {
      "cell_type": "code",
      "source": [
        " 16. #Demonstrate how to use memory profiling to check the memory usage of a small program.\n",
        "# Using tracemalloc from the standard library (works in Colab too)\n",
        "import tracemalloc\n",
        "\n",
        "tracemalloc.start()\n",
        "\n",
        "# Sample \"small program\" that creates a list\n",
        "nums = [i for i in range(1_000_0)]  # 10k numbers\n",
        "\n",
        "current, peak = tracemalloc.get_traced_memory()\n",
        "print(f\"Current memory: {current} bytes; Peak memory: {peak} bytes\")\n",
        "\n",
        "tracemalloc.stop()"
      ],
      "metadata": {
        "colab": {
          "base_uri": "https://localhost:8080/"
        },
        "id": "JgaE-DRCRFMr",
        "outputId": "5d4d98ff-1ba3-45b5-9998-30e5ec4a1f8f"
      },
      "execution_count": null,
      "outputs": [
        {
          "output_type": "stream",
          "name": "stdout",
          "text": [
            "Current memory: 398336 bytes; Peak memory: 409644 bytes\n"
          ]
        }
      ]
    },
    {
      "cell_type": "code",
      "source": [
        "17. #Write a Python program to create and write a list of numbers to a file, one number per line.\n",
        "numbers = list(range(1, 11))\n",
        "with open(\"numbers.txt\", \"w\", encoding=\"utf-8\") as f:\n",
        "    for n in numbers:\n",
        "        f.write(f\"{n}\\n\")"
      ],
      "metadata": {
        "id": "AX2zFyYKRfS8"
      },
      "execution_count": 1,
      "outputs": []
    },
    {
      "cell_type": "code",
      "source": [
        "18. #How would you implement a basic logging setup that logs to a file with rotation after 1MB?\n",
        "import logging\n",
        "from logging.handlers import RotatingFileHandler\n",
        "\n",
        "logger = logging.getLogger(\"rotating_logger\")\n",
        "logger.setLevel(logging.INFO)\n",
        "\n",
        "handler = RotatingFileHandler(\n",
        "    \"rotating.log\",\n",
        "    maxBytes=1_000_000,   # 1 MB\n",
        "    backupCount=5         # keep 5 old logs\n",
        ")\n",
        "formatter = logging.Formatter(\"%(asctime)s %(levelname)s %(message)s\")\n",
        "handler.setFormatter(formatter)\n",
        "logger.addHandler(handler)\n",
        "\n",
        "logger.info(\"This is a test log message.\")"
      ],
      "metadata": {
        "colab": {
          "base_uri": "https://localhost:8080/"
        },
        "id": "-chcxvGqWV9x",
        "outputId": "29ab8202-05d2-4f50-f4fc-f6d9450371e0"
      },
      "execution_count": 2,
      "outputs": [
        {
          "output_type": "stream",
          "name": "stderr",
          "text": [
            "INFO:rotating_logger:This is a test log message.\n"
          ]
        }
      ]
    },
    {
      "cell_type": "code",
      "source": [
        "19. #Write a program that handles both IndexError and KeyError using a try-except block.\n",
        "data_list = [10, 20, 30]\n",
        "data_dict = {\"a\": 1, \"b\": 2}\n",
        "\n",
        "try:\n",
        "    # Trying to access an invalid index and an invalid key\n",
        "    print(\"List element:\", data_list[5])  # This will cause IndexError\n",
        "    print(\"Dictionary value:\", data_dict[\"c\"])  # This will cause KeyError\n",
        "\n",
        "except IndexError:\n",
        "    print(\"Error: List index out of range.\")\n",
        "\n",
        "except KeyError:\n",
        "    print(\"Error: Key not found in dictionary.\")\n",
        "\n",
        "print(\"Program continues...\")"
      ],
      "metadata": {
        "colab": {
          "base_uri": "https://localhost:8080/"
        },
        "id": "-B3HkZoVWdxB",
        "outputId": "f37ebdad-0732-4d18-94db-6f900713cba1"
      },
      "execution_count": 3,
      "outputs": [
        {
          "output_type": "stream",
          "name": "stdout",
          "text": [
            "Error: List index out of range.\n",
            "Program continues...\n"
          ]
        }
      ]
    },
    {
      "cell_type": "code",
      "source": [
        "20. #How would you open a file and read its contents using a context manager in Python?\n",
        "filename = \"input.txt\"\n",
        "\n",
        "try:\n",
        "    with open(filename, \"r\", encoding=\"utf-8\") as file:\n",
        "        content = file.read()\n",
        "        print(\"File content:\")\n",
        "        print(content)\n",
        "except FileNotFoundError:\n",
        "    print(f\"Error: The file '{filename}' does not exist.\")\n",
        "except Exception as e:\n",
        "    print(f\"An error occurred: {e}\")"
      ],
      "metadata": {
        "colab": {
          "base_uri": "https://localhost:8080/"
        },
        "id": "AgevXfw0Wliz",
        "outputId": "0d53ec1a-4f0e-4d28-8bb9-c69e14ee564d"
      },
      "execution_count": 4,
      "outputs": [
        {
          "output_type": "stream",
          "name": "stdout",
          "text": [
            "Error: The file 'input.txt' does not exist.\n"
          ]
        }
      ]
    },
    {
      "cell_type": "code",
      "source": [
        "21. #Write a Python program that reads a file and prints the number of occurrences of a specific word.\n",
        "import re\n",
        "\n",
        "filename = \"input.txt\"      # change as needed\n",
        "word_to_count = \"python\"    # change as needed\n",
        "case_sensitive = False      # set True for case-sensitive match\n",
        "\n",
        "try:\n",
        "    with open(filename, \"r\", encoding=\"utf-8\") as f:\n",
        "        text = f.read()\n",
        "    flags = 0 if case_sensitive else re.IGNORECASE\n",
        "    pattern = r\"\\b{}\\b\".format(re.escape(word_to_count))\n",
        "    count = len(re.findall(pattern, text, flags))\n",
        "    print(f\"'{word_to_count}' occurs {count} time(s) in '{filename}'.\")\n",
        "except FileNotFoundError:\n",
        "    print(f\"Error: The file '{filename}' does not exist.\")\n",
        "except Exception as e:\n",
        "    print(f\"An error occurred: {e}\")"
      ],
      "metadata": {
        "colab": {
          "base_uri": "https://localhost:8080/"
        },
        "id": "vQSjU7O5Wpa2",
        "outputId": "27d79818-4313-4d3a-f2c8-116be18a0af8"
      },
      "execution_count": 5,
      "outputs": [
        {
          "output_type": "stream",
          "name": "stdout",
          "text": [
            "Error: The file 'input.txt' does not exist.\n"
          ]
        }
      ]
    },
    {
      "cell_type": "code",
      "source": [
        "22. #How can you check if a file is empty before attempting to read its contents?\n",
        "import os\n",
        "\n",
        "filename = \"check_empty.txt\"\n",
        "if os.path.exists(filename) and os.path.getsize(filename) > 0:\n",
        "    with open(filename, \"r\", encoding=\"utf-8\") as f:\n",
        "        print(f.read())\n",
        "else:\n",
        "    print(\"File is empty or does not exist.\")"
      ],
      "metadata": {
        "colab": {
          "base_uri": "https://localhost:8080/"
        },
        "id": "fUJMG_phWu8g",
        "outputId": "ca35096a-50e0-4a4c-fc4b-e0298267d447"
      },
      "execution_count": 6,
      "outputs": [
        {
          "output_type": "stream",
          "name": "stdout",
          "text": [
            "File is empty or does not exist.\n"
          ]
        }
      ]
    },
    {
      "cell_type": "code",
      "source": [
        "23. #Write a Python program that writes to a log file when an error occurs during file handling.\n",
        "import logging\n",
        "\n",
        "logging.basicConfig(\n",
        "    filename=\"file_errors.log\",\n",
        "    level=logging.ERROR,\n",
        "    format=\"%(asctime)s %(levelname)s %(message)s\"\n",
        ")\n",
        "\n",
        "filename = \"no_such_file.txt\"\n",
        "try:\n",
        "    with open(filename, \"r\", encoding=\"utf-8\") as f:\n",
        "        data = f.read()\n",
        "except OSError as e:\n",
        "    logging.error(\"Error opening %s: %s\", filename, e)\n",
        "    print(\"Logged file error.\")"
      ],
      "metadata": {
        "colab": {
          "base_uri": "https://localhost:8080/"
        },
        "id": "cKfHYQ7MW85s",
        "outputId": "c20dd5a1-7dfa-4d09-8350-5ee84f09c953"
      },
      "execution_count": 7,
      "outputs": [
        {
          "output_type": "stream",
          "name": "stderr",
          "text": [
            "ERROR:root:Error opening no_such_file.txt: [Errno 2] No such file or directory: 'no_such_file.txt'\n"
          ]
        },
        {
          "output_type": "stream",
          "name": "stdout",
          "text": [
            "Logged file error.\n"
          ]
        }
      ]
    },
    {
      "cell_type": "code",
      "source": [],
      "metadata": {
        "id": "ijxUQeA5W_5-"
      },
      "execution_count": null,
      "outputs": []
    }
  ]
}